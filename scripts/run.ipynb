{
 "cells": [
  {
   "cell_type": "code",
   "execution_count": 1,
   "metadata": {},
   "outputs": [],
   "source": [
    "%load_ext autoreload \n",
    "%autoreload 2\n",
    "\n",
    "from pathlib import Path \n",
    "\n",
    "import subprocess\n",
    "\n"
   ]
  },
  {
   "cell_type": "markdown",
   "metadata": {},
   "source": [
    "# TODOs\n",
    "\n",
    "- if no `katan` in config, prompt user and write to SSH_CONFIG \n",
    "- option to use `-F configfile` option for ssh if different config file used by user. \n",
    "\n",
    "- allow client-side use of remote variables \n",
    "(e.g. typing $SCRATCH as the 'remote directory' will be evaluated on the HOST, and then parsed by the following `code` command \n",
    "to being whatever $SCRATCH actually is on the remote (arbitrary))\n",
    "\n",
    "\n",
    "- remove requirement to have `*-*` hostname in `~/.ssh/config` before using the script \n",
    "(i.e. the script should be able to execute the SSH connection regardless)\n",
    "\n"
   ]
  },
  {
   "cell_type": "code",
   "execution_count": null,
   "metadata": {},
   "outputs": [
    {
     "data": {
      "text/plain": [
       "True"
      ]
     },
     "execution_count": 3,
     "metadata": {},
     "output_type": "execute_result"
    }
   ],
   "source": [
    "SSH_CONFIG_PATH = Path.home().resolve() / \".ssh\" / \"config\"\n",
    "assert SSH_CONFIG_PATH.is_file(), f\"SSH config file not found at {SSH_CONFIG_PATH}\"\n",
    "\n"
   ]
  },
  {
   "cell_type": "code",
   "execution_count": 4,
   "metadata": {},
   "outputs": [
    {
     "name": "stdout",
     "output_type": "stream",
     "text": [
      "Found 7 hostnames in ssh config\n"
     ]
    }
   ],
   "source": [
    "# Get hostnames from ssh config\n",
    "with open(SSH_CONFIG_PATH, \"r\") as f:\n",
    "    ssh_config = f.read()\n",
    "\n",
    "hostnames = []\n",
    "for line in ssh_config.split(\"\\n\"):\n",
    "    if line.startswith(\"Host \"):\n",
    "        hostnames.append(line.split()[1])\n",
    "    \n",
    "print(f\"Found {len(hostnames)} hostnames in ssh config\")\n"
   ]
  },
  {
   "cell_type": "code",
   "execution_count": 10,
   "metadata": {},
   "outputs": [
    {
     "name": "stdout",
     "output_type": "stream",
     "text": [
      "Found katana in ssh config\n"
     ]
    }
   ],
   "source": [
    "KATANA = \"katana\"\n",
    "KATANA_ADDR = \"katana.restech.unsw.edu.au\" \n",
    "USER = \"USERNAME_GOES_HERE\" # TODO: prompt \n",
    "if KATANA in hostnames:\n",
    "    print(f\"Found {KATANA} in ssh config\")\n",
    "else:\n",
    "    print(f\"{KATANA} not found in ssh config\")\n",
    "    \n",
    "    appended = f\"\"\"\n",
    "Host {KATANA}\n",
    "    HostName {KATANA_ADDR}\n",
    "    User {USER}\n",
    "    IdentityFile ~/.ssh/id_rsa \n",
    "\"\"\"\n",
    "    # Add katana to ssh config\n",
    "    with open(SSH_CONFIG_PATH, \"a\") as f:\n",
    "        f.write(appended)\n",
    " "
   ]
  },
  {
   "cell_type": "code",
   "execution_count": 11,
   "metadata": {},
   "outputs": [
    {
     "name": "stdout",
     "output_type": "stream",
     "text": [
      "\n",
      "Host asdf\n",
      "    HostName katana.restech.unsw.edu.au\n",
      "    User USERNAME_GOES_HERE\n",
      "    IdentityFile ~/.ssh/id_rsa \n",
      "\n"
     ]
    }
   ],
   "source": [
    "print(appended)"
   ]
  },
  {
   "cell_type": "code",
   "execution_count": 13,
   "metadata": {},
   "outputs": [
    {
     "ename": "FileNotFoundError",
     "evalue": "[Errno 2] No such file or directory: 'code --remote ssh-remote+katana-k106 /srv/scratch/z5207455'",
     "output_type": "error",
     "traceback": [
      "\u001b[0;31m---------------------------------------------------------------------------\u001b[0m",
      "\u001b[0;31mFileNotFoundError\u001b[0m                         Traceback (most recent call last)",
      "Cell \u001b[0;32mIn[13], line 14\u001b[0m\n\u001b[1;32m     11\u001b[0m     remote \u001b[38;5;241m=\u001b[39m \u001b[38;5;124mf\u001b[39m\u001b[38;5;124m\"\u001b[39m\u001b[38;5;132;01m{\u001b[39;00mKATANA\u001b[38;5;132;01m}\u001b[39;00m\u001b[38;5;124m-\u001b[39m\u001b[38;5;132;01m{\u001b[39;00mNODE_NAME\u001b[38;5;132;01m}\u001b[39;00m\u001b[38;5;124m\"\u001b[39m\n\u001b[1;32m     13\u001b[0m cmd \u001b[38;5;241m=\u001b[39m \u001b[38;5;124mf\u001b[39m\u001b[38;5;124m\"\u001b[39m\u001b[38;5;124mcode --remote ssh-remote+\u001b[39m\u001b[38;5;132;01m{\u001b[39;00mremote\u001b[38;5;132;01m}\u001b[39;00m\u001b[38;5;124m \u001b[39m\u001b[38;5;132;01m{\u001b[39;00mREMOTE_DIR\u001b[38;5;132;01m}\u001b[39;00m\u001b[38;5;124m\"\u001b[39m\n\u001b[0;32m---> 14\u001b[0m \u001b[43msubprocess\u001b[49m\u001b[38;5;241;43m.\u001b[39;49m\u001b[43mrun\u001b[49m\u001b[43m(\u001b[49m\u001b[43mcmd\u001b[49m\u001b[43m)\u001b[49m\n",
      "File \u001b[0;32m~/opt/anaconda3/envs/datavis/lib/python3.12/subprocess.py:548\u001b[0m, in \u001b[0;36mrun\u001b[0;34m(input, capture_output, timeout, check, *popenargs, **kwargs)\u001b[0m\n\u001b[1;32m    545\u001b[0m     kwargs[\u001b[38;5;124m'\u001b[39m\u001b[38;5;124mstdout\u001b[39m\u001b[38;5;124m'\u001b[39m] \u001b[38;5;241m=\u001b[39m PIPE\n\u001b[1;32m    546\u001b[0m     kwargs[\u001b[38;5;124m'\u001b[39m\u001b[38;5;124mstderr\u001b[39m\u001b[38;5;124m'\u001b[39m] \u001b[38;5;241m=\u001b[39m PIPE\n\u001b[0;32m--> 548\u001b[0m \u001b[38;5;28;01mwith\u001b[39;00m \u001b[43mPopen\u001b[49m\u001b[43m(\u001b[49m\u001b[38;5;241;43m*\u001b[39;49m\u001b[43mpopenargs\u001b[49m\u001b[43m,\u001b[49m\u001b[43m \u001b[49m\u001b[38;5;241;43m*\u001b[39;49m\u001b[38;5;241;43m*\u001b[39;49m\u001b[43mkwargs\u001b[49m\u001b[43m)\u001b[49m \u001b[38;5;28;01mas\u001b[39;00m process:\n\u001b[1;32m    549\u001b[0m     \u001b[38;5;28;01mtry\u001b[39;00m:\n\u001b[1;32m    550\u001b[0m         stdout, stderr \u001b[38;5;241m=\u001b[39m process\u001b[38;5;241m.\u001b[39mcommunicate(\u001b[38;5;28minput\u001b[39m, timeout\u001b[38;5;241m=\u001b[39mtimeout)\n",
      "File \u001b[0;32m~/opt/anaconda3/envs/datavis/lib/python3.12/subprocess.py:1026\u001b[0m, in \u001b[0;36mPopen.__init__\u001b[0;34m(self, args, bufsize, executable, stdin, stdout, stderr, preexec_fn, close_fds, shell, cwd, env, universal_newlines, startupinfo, creationflags, restore_signals, start_new_session, pass_fds, user, group, extra_groups, encoding, errors, text, umask, pipesize, process_group)\u001b[0m\n\u001b[1;32m   1022\u001b[0m         \u001b[38;5;28;01mif\u001b[39;00m \u001b[38;5;28mself\u001b[39m\u001b[38;5;241m.\u001b[39mtext_mode:\n\u001b[1;32m   1023\u001b[0m             \u001b[38;5;28mself\u001b[39m\u001b[38;5;241m.\u001b[39mstderr \u001b[38;5;241m=\u001b[39m io\u001b[38;5;241m.\u001b[39mTextIOWrapper(\u001b[38;5;28mself\u001b[39m\u001b[38;5;241m.\u001b[39mstderr,\n\u001b[1;32m   1024\u001b[0m                     encoding\u001b[38;5;241m=\u001b[39mencoding, errors\u001b[38;5;241m=\u001b[39merrors)\n\u001b[0;32m-> 1026\u001b[0m     \u001b[38;5;28;43mself\u001b[39;49m\u001b[38;5;241;43m.\u001b[39;49m\u001b[43m_execute_child\u001b[49m\u001b[43m(\u001b[49m\u001b[43margs\u001b[49m\u001b[43m,\u001b[49m\u001b[43m \u001b[49m\u001b[43mexecutable\u001b[49m\u001b[43m,\u001b[49m\u001b[43m \u001b[49m\u001b[43mpreexec_fn\u001b[49m\u001b[43m,\u001b[49m\u001b[43m \u001b[49m\u001b[43mclose_fds\u001b[49m\u001b[43m,\u001b[49m\n\u001b[1;32m   1027\u001b[0m \u001b[43m                        \u001b[49m\u001b[43mpass_fds\u001b[49m\u001b[43m,\u001b[49m\u001b[43m \u001b[49m\u001b[43mcwd\u001b[49m\u001b[43m,\u001b[49m\u001b[43m \u001b[49m\u001b[43menv\u001b[49m\u001b[43m,\u001b[49m\n\u001b[1;32m   1028\u001b[0m \u001b[43m                        \u001b[49m\u001b[43mstartupinfo\u001b[49m\u001b[43m,\u001b[49m\u001b[43m \u001b[49m\u001b[43mcreationflags\u001b[49m\u001b[43m,\u001b[49m\u001b[43m \u001b[49m\u001b[43mshell\u001b[49m\u001b[43m,\u001b[49m\n\u001b[1;32m   1029\u001b[0m \u001b[43m                        \u001b[49m\u001b[43mp2cread\u001b[49m\u001b[43m,\u001b[49m\u001b[43m \u001b[49m\u001b[43mp2cwrite\u001b[49m\u001b[43m,\u001b[49m\n\u001b[1;32m   1030\u001b[0m \u001b[43m                        \u001b[49m\u001b[43mc2pread\u001b[49m\u001b[43m,\u001b[49m\u001b[43m \u001b[49m\u001b[43mc2pwrite\u001b[49m\u001b[43m,\u001b[49m\n\u001b[1;32m   1031\u001b[0m \u001b[43m                        \u001b[49m\u001b[43merrread\u001b[49m\u001b[43m,\u001b[49m\u001b[43m \u001b[49m\u001b[43merrwrite\u001b[49m\u001b[43m,\u001b[49m\n\u001b[1;32m   1032\u001b[0m \u001b[43m                        \u001b[49m\u001b[43mrestore_signals\u001b[49m\u001b[43m,\u001b[49m\n\u001b[1;32m   1033\u001b[0m \u001b[43m                        \u001b[49m\u001b[43mgid\u001b[49m\u001b[43m,\u001b[49m\u001b[43m \u001b[49m\u001b[43mgids\u001b[49m\u001b[43m,\u001b[49m\u001b[43m \u001b[49m\u001b[43muid\u001b[49m\u001b[43m,\u001b[49m\u001b[43m \u001b[49m\u001b[43mumask\u001b[49m\u001b[43m,\u001b[49m\n\u001b[1;32m   1034\u001b[0m \u001b[43m                        \u001b[49m\u001b[43mstart_new_session\u001b[49m\u001b[43m,\u001b[49m\u001b[43m \u001b[49m\u001b[43mprocess_group\u001b[49m\u001b[43m)\u001b[49m\n\u001b[1;32m   1035\u001b[0m \u001b[38;5;28;01mexcept\u001b[39;00m:\n\u001b[1;32m   1036\u001b[0m     \u001b[38;5;66;03m# Cleanup if the child failed starting.\u001b[39;00m\n\u001b[1;32m   1037\u001b[0m     \u001b[38;5;28;01mfor\u001b[39;00m f \u001b[38;5;129;01min\u001b[39;00m \u001b[38;5;28mfilter\u001b[39m(\u001b[38;5;28;01mNone\u001b[39;00m, (\u001b[38;5;28mself\u001b[39m\u001b[38;5;241m.\u001b[39mstdin, \u001b[38;5;28mself\u001b[39m\u001b[38;5;241m.\u001b[39mstdout, \u001b[38;5;28mself\u001b[39m\u001b[38;5;241m.\u001b[39mstderr)):\n",
      "File \u001b[0;32m~/opt/anaconda3/envs/datavis/lib/python3.12/subprocess.py:1955\u001b[0m, in \u001b[0;36mPopen._execute_child\u001b[0;34m(self, args, executable, preexec_fn, close_fds, pass_fds, cwd, env, startupinfo, creationflags, shell, p2cread, p2cwrite, c2pread, c2pwrite, errread, errwrite, restore_signals, gid, gids, uid, umask, start_new_session, process_group)\u001b[0m\n\u001b[1;32m   1953\u001b[0m     err_msg \u001b[38;5;241m=\u001b[39m os\u001b[38;5;241m.\u001b[39mstrerror(errno_num)\n\u001b[1;32m   1954\u001b[0m \u001b[38;5;28;01mif\u001b[39;00m err_filename \u001b[38;5;129;01mis\u001b[39;00m \u001b[38;5;129;01mnot\u001b[39;00m \u001b[38;5;28;01mNone\u001b[39;00m:\n\u001b[0;32m-> 1955\u001b[0m     \u001b[38;5;28;01mraise\u001b[39;00m child_exception_type(errno_num, err_msg, err_filename)\n\u001b[1;32m   1956\u001b[0m \u001b[38;5;28;01melse\u001b[39;00m:\n\u001b[1;32m   1957\u001b[0m     \u001b[38;5;28;01mraise\u001b[39;00m child_exception_type(errno_num, err_msg)\n",
      "\u001b[0;31mFileNotFoundError\u001b[0m: [Errno 2] No such file or directory: 'code --remote ssh-remote+katana-k106 /srv/scratch/z5207455'"
     ]
    }
   ],
   "source": [
    "node_name = \"k106\"\n",
    "\n",
    "USER = \"z5207455\" # TODO remove hardcoding\n",
    "REMOTE_DIR = SCRATCH_DIR = Path(f\"/srv/scratch/\") / USER\n",
    "NODE_NAME = node_name \n",
    "use_username = False\n",
    "if use_username: \n",
    "    PORT = 22\n",
    "    remote = f\"{USER}@{KATANA_ADDR}:{PORT}\"\n",
    "else:\n",
    "    remote = f\"{KATANA}-{NODE_NAME}\"\n",
    "\n",
    "cmd = f\"code --remote ssh-remote+{remote} {REMOTE_DIR}\"\n",
    "subprocess.run(cmd)"
   ]
  },
  {
   "cell_type": "code",
   "execution_count": 22,
   "metadata": {},
   "outputs": [],
   "source": [
    "import shlex"
   ]
  },
  {
   "cell_type": "code",
   "execution_count": 25,
   "metadata": {},
   "outputs": [
    {
     "name": "stdout",
     "output_type": "stream",
     "text": [
      "/usr/local/bin/code\n",
      "\n"
     ]
    }
   ],
   "source": [
    "# NOTE: for `shell=False` we need to supply args as a list\n",
    "\n",
    "cmd = [\"which\", \"code\"]\n",
    "captured = subprocess.run(cmd, capture_output=True, shell=False)\n",
    "print(captured.stdout.decode())"
   ]
  },
  {
   "cell_type": "code",
   "execution_count": 27,
   "metadata": {},
   "outputs": [
    {
     "name": "stdout",
     "output_type": "stream",
     "text": [
      "hello\n",
      "\n"
     ]
    }
   ],
   "source": [
    "cmd = [\"ssh\", \"katana\", \"echo 'hello'\"]\n",
    "captured = subprocess.run(cmd, capture_output=True, shell=False)\n",
    "print(captured.stdout.decode())"
   ]
  },
  {
   "cell_type": "code",
   "execution_count": null,
   "metadata": {},
   "outputs": [
    {
     "name": "stdout",
     "output_type": "stream",
     "text": [
      "6275023.kman.restech.unsw.edu.au.OU\n",
      "6275038.kman.restech.unsw.edu.au.OU\n",
      "HYBRID\n",
      "JOB_SUBS\n",
      "install.sh\n",
      "kamurani\n",
      "miniconda3\n",
      "peptide\n",
      "sbf\n",
      "test_script.sh\n",
      "\n",
      "bash: sbf: command not found\n",
      "\n"
     ]
    }
   ],
   "source": [
    "# cmd = [\"ssh\", \"-t\", \"katana\", \"sbf; ls\"]\n",
    "\n",
    "# TODO: don't use `-t` as it adds more output \n",
    "\n",
    "\n",
    "captured = subprocess.Popen(cmd, stdout=subprocess.PIPE, stderr=subprocess.PIPE, shell=False)\n",
    "print(captured.stdout.read().decode())\n",
    "print(captured.stderr.read().decode())"
   ]
  },
  {
   "cell_type": "code",
   "execution_count": null,
   "metadata": {},
   "outputs": [],
   "source": [
    "\n",
    "from functools import partial\n",
    "\n",
    "\n",
    "\n",
    "class PBSServer:\n",
    "    def __init__(\n",
    "        self, \n",
    "        remotehost: str = \"katana\",\n",
    "        print_output: bool = False,\n",
    "\n",
    "    ): \n",
    "        self.remotehost = remotehost\n",
    "        self.print_output = print_output\n",
    "\n",
    "        #initialise the print_stdout decorator with print_output set to True\n",
    "\n",
    "        # TODO: \n",
    "        # figure out how to add a decorator which, depending on a class attribute (self.print_output), \n",
    "        # will do different things.\n",
    "        # self.print_stdout = partial(print_stdout, print_output=True)\n",
    "\n",
    "\n",
    "\n",
    "    \"\"\"Decorator for stdout collection\"\"\"\n",
    "    def print_stdout(func):\n",
    "        def decorated(self, *args, **kwargs):\n",
    "            stdout, stderr = None, None\n",
    "            try:\n",
    "                stdout, stderr = func(self, *args, **kwargs)\n",
    "            except Exception as e:\n",
    "                print(e)\n",
    "            \n",
    "            if self.print_output: \n",
    "                print(stdout)\n",
    "                print(stderr)\n",
    "            return stdout, stderr\n",
    "\n",
    "        return decorated\n",
    "    \n",
    "    \n",
    "    # use partial to set print_output when initializing the class\n",
    "\n",
    "    \n",
    "        \n",
    "\n",
    "    @print_stdout\n",
    "    def ssh_execute(self, cmd):\n",
    "        cmd = [\"ssh\", self.remotehost, cmd]\n",
    "        captured = subprocess.Popen(cmd, stdout=subprocess.PIPE, stderr=subprocess.PIPE, shell=False)\n",
    "        stdout = captured.stdout.read().decode()\n",
    "        stderr = captured.stderr.read().decode()\n",
    "        return stdout, stderr\n",
    "    \n",
    "    def qstat(self):\n",
    "        pass \n",
    "    \n",
    "    @print_stdout\n",
    "    def pstat(self):\n",
    "        \"\"\"Get overview of the compute nodes and list of jobs running on each node.\"\"\"\n",
    "        cmd = \"pstat\"\n",
    "        stdout, stderr = self.ssh_execute(cmd)\n",
    "        return stdout, stderr  \n",
    "\n",
    "    @print_stdout\n",
    "    def pbsnodes(self, node: str):\n",
    "        cmd = f\"pbsnodes {node}\"\n",
    "        stdout, stderr = self.ssh_execute(cmd)\n",
    "        return stdout, stderr  \n",
    "\n",
    "\n",
    "katana = PBSServer(\n",
    "    print_output=False,\n",
    ")\n",
    "\n"
   ]
  },
  {
   "cell_type": "code",
   "execution_count": 94,
   "metadata": {},
   "outputs": [
    {
     "name": "stdout",
     "output_type": "stream",
     "text": [
      "PBSServer.ssh_execute() missing 1 required positional argument: 'self'\n"
     ]
    }
   ],
   "source": [
    "out, err = katana.ssh_execute(cmd = \"qstat -u $USER -s\")"
   ]
  },
  {
   "cell_type": "code",
   "execution_count": 85,
   "metadata": {},
   "outputs": [
    {
     "data": {
      "text/plain": [
       "\"\\nkman.restech.unsw.edu.au: \\n                                                            Req'd  Req'd   Elap\\nJob ID          Username Queue    Jobname    SessID NDS TSK Memory Time  S Time\\n--------------- -------- -------- ---------- ------ --- --- ------ ----- - -----\\n6278655.kman.r* z5207455 mwacgpu* interacti*    --    1   6   46gb 12:00 Q   -- \\n    -- \\n\""
      ]
     },
     "execution_count": 85,
     "metadata": {},
     "output_type": "execute_result"
    }
   ],
   "source": [
    "out"
   ]
  },
  {
   "cell_type": "code",
   "execution_count": 78,
   "metadata": {},
   "outputs": [
    {
     "name": "stdout",
     "output_type": "stream",
     "text": [
      "\n",
      "\n",
      "\n",
      "\n"
     ]
    }
   ],
   "source": [
    "out, err = katana.ssh_execute(cmd = \"qstat -u $USER -s -f -n -1 -t \")\n",
    "# -f: full output\n",
    "# -n: display node names\n",
    "# -1: display node name on same line as job\n",
    "# -t: expand output \n",
    "# -u: filter by USER \n",
    "\n",
    "print(out)\n",
    "print(err)"
   ]
  },
  {
   "cell_type": "code",
   "execution_count": 67,
   "metadata": {},
   "outputs": [
    {
     "name": "stdout",
     "output_type": "stream",
     "text": [
      "\n",
      "kman.restech.unsw.edu.au: \n",
      "                                                            Req'd  Req'd   Elap\n",
      "Job ID          Username Queue    Jobname    SessID NDS TSK Memory Time  S Time\n",
      "--------------- -------- -------- ---------- ------ --- --- ------ ----- - -----\n",
      "6277362.kman.r* z5207455 mwacgpu* interacti* 10573*   1   6   46gb 12:00 R 01:00\n",
      "   k106/1*6\n",
      "\n",
      "\n"
     ]
    }
   ],
   "source": [
    "job_id = 6277362\n",
    "\n",
    "out, err = katana.ssh_execute(cmd = f\"qstat -r {job_id} -n\")\n",
    "print(out)\n",
    "print(err)"
   ]
  },
  {
   "cell_type": "code",
   "execution_count": 69,
   "metadata": {},
   "outputs": [
    {
     "name": "stdout",
     "output_type": "stream",
     "text": [
      "k001  normal-mrcbio           free          28/44   700/1006gb  6276858*28\n",
      "k002  normal-mrcbio           job-busy      44/44   152/ 376gb  6252499*16 6252777*16 6277090[333]*12\n",
      "k003  normal-mrcbio           free          26/44   176/ 376gb  6276704*10 6277017*16\n",
      "k004  normal-mrcbio           job-busy      44/44    74/ 376gb  6252790*16 6277238*28\n",
      "k005  normal-ccrc             free          17/32   179/ 186gb  6271466*2 6277090[316]*12 6277262*3\n",
      "k006  normal-physics          job-busy      32/32   172/ 186gb  6276662*8 6277090[279]*12 6277090[286]*12\n",
      "k007  normal-physics          free          28/32   152/ 186gb  6277090[272]*12 6277525*16\n",
      "k008  normal-physics          free          28/32    88/ 186gb  6253055*16 6277090[351]*12\n",
      "k009  normal-physics          free          12/32    24/ 186gb  6277090[267]*12\n",
      "k010  normal-physics          job-busy      32/32   138/ 186gb  6277090[255]*12 6277468*8 6277547*12\n",
      "k011  normal-physics          free          30/32   142/ 186gb  6253058*16 6277263*3 6277264*3 6277341*8\n",
      "k012  normal-physics          free          12/32    24/ 186gb  6277090[311]*12\n",
      "k013  normal-physics          job-busy      32/32   162/ 186gb  6253053*16 6276876[126]*8 6277491*8\n",
      "k014  normal-physics          free          24/32    48/ 186gb  6277090[287]*12 6277090[328]*12\n",
      "k015  normal-physics          free          24/32    48/ 186gb  6277090[276]*12 6277090[295]*12\n",
      "k016  normal-physics          free          16/32    48/ 186gb  6277043*16\n",
      "k017  normal-mech             free           4/16     4/ 753gb  6276625*4\n",
      "k018  normal-ndarc            free          24/32   172/ 187gb  6276621*8 6277039*16\n",
      "k020  normal-babs             free          66/80  1130/1509gb  6274898*8 6276588*8 6276878*30 6277554*10 6277560*10\n",
      "k021  normal-medicine         free          37/40   151/ 185gb  6252782*16 6252784*16 6277134*2 6277242*3\n",
      "k022  normal-wong             job-busy      40/40    50/ 186gb  6276699*40\n",
      "k023  normal-bees             free          36/40   176/ 185gb  6276629*16 6276658*12 6276876[120]*8\n",
      "k024  normal-bees             free          32/40   136/ 185gb  6277030*16 6277090[256]*12 6277470*4\n",
      "k025  normal-bees             free          37/40   140/ 185gb  6276632*16 6276666*1 6276876[127]*8 6277090[323]*12\n",
      "k026  normal-bees             job-busy      40/40   170/ 185gb  6271463*11 6271469*5 6274847*10 6277090[335]*12 6277400*1 6277481*1\n",
      "k027  normal-ausequity        job-busy      40/40    50/ 185gb  6276699*40\n",
      "k028  normal-babs             free          38/40   260/ 375gb  6264787*1 6277219*1 6277486*8 6277492*8 6277553*10 6277561*10\n",
      "k029  normal-babs             free          10/40    20/ 375gb  6277565*10\n",
      "k030  normal-babs             free          34/40    68/ 375gb  6277090[310]*12 6277547*12 6277563*10\n",
      "k031  ib-general              job-busy      40/40   160/ 186gb  6270998*40\n",
      "k032  ib-general              job-busy      40/40   160/ 186gb  6276611*20 6276612*20\n",
      "k033  ib-general              job-busy      40/40   160/ 186gb  6246196*16 6276898*12 6277163*12\n",
      "k034  ib-general              offline        0/40     0/ 186gb  \n",
      "k035  ib-general              job-busy      40/40   160/ 186gb  6276613*20 6276614*20\n",
      "k036  ib-general              job-busy      40/40   160/ 186gb  6270751*40\n",
      "k037  ib-general              free          38/40   152/ 186gb  6246197*16 6262175*16 6277168*6\n",
      "k038  ib-general              free          32/40   128/ 186gb  6246194*16 6246195*16\n",
      "k039  ib-general              free          20/40    80/ 186gb  6276610*20\n",
      "k040  ib-general              free          16/40    64/ 186gb  6246193*16\n",
      "k041  ib-general              free           0/40     0/ 186gb  \n",
      "k042  ib-general              job-busy      40/40   160/ 186gb  6276684*40\n",
      "k043  ib-general              free          16/40    64/ 186gb  6246198*16\n",
      "k044  ib-general              job-busy      40/40   160/ 186gb  6277144*40\n",
      "k045  ib-physics              free           0/40     0/ 185gb  \n",
      "k046  ib-physics              free           0/40     0/ 185gb  \n",
      "k047  ib-physics              job-busy      40/40   160/ 185gb  6276917*40\n",
      "k048  ib-physics              free           0/40     0/ 185gb  \n",
      "k049  ib-physics              free           0/40     0/ 185gb  \n",
      "k050  ib-physics              free           0/40     0/ 185gb  \n",
      "k051  ib-physics              free           0/40     0/ 185gb  \n",
      "k052  ib-physics              free           0/40     0/ 185gb  \n",
      "k053  ib-spree                free          36/40   100/ 185gb  6239779*36\n",
      "k054  ib-spree                free          36/40   100/ 185gb  6241589*36\n",
      "k055  ib-spree                free          36/40   100/ 185gb  6239661*36\n",
      "k056  ib-spree                free          36/40   100/ 185gb  6241606*36\n",
      "k057  ib-spree                free          36/40   100/ 185gb  6239638*36\n",
      "k058  ib-spree                free          36/40   100/ 185gb  6242425*36\n",
      "k061  normal-physics          job-busy      40/40   167/ 185gb  6276725*25 6277090[331]*12 6277265*3\n",
      "k062  normal-physics          job-busy      40/40   112/ 185gb  6253060*16 6277090[264]*12 6277090[304]*12\n",
      "k063  normal-physics          job-busy      40/40    50/ 185gb  6276699*40\n",
      "k064  normal-physics          free          36/40    72/ 185gb  6277090[348]*12 6277090[349]*12 6277090[353]*12\n",
      "k065  normal-physics          job-busy      40/40    50/ 185gb  6276699*40\n",
      "k066  normal-general          job-busy      48/48   128/ 375gb  6253054*16 6275909[52]*8 6275909[53]*8 6275909[72]*8 6275909[73]*8\n",
      "k067  normal-general          job-busy      48/48    88/ 375gb  6275909[18]*8 6275909[67]*8 6277090[339]*12 6277090[350]*12 6277497*8\n",
      "k068  normal-general          job-busy      48/48   274/ 375gb  6270849*24 6276876[139]*8 6276876[149]*8 6276876[151]*8\n",
      "k069  normal-general          free          43/48   144/ 375gb  6274645*10 6275798*8 6276886*1 6277090[320]*12 6277090[324]*12\n",
      "k070  normal-general          job-busy      48/48   188/ 375gb  6275909[26]*8 6275909[29]*8 6275909[78]*8 6276661*8 6276876[130]*8 6276876[158]*8\n",
      "k071  normal-flowsci          free          44/48    66/ 375gb  6274932*2 6274934*2 6276699*40\n",
      "k072  normal-flowsci          free          42/48    58/ 375gb  6274924*2 6276699*40\n",
      "k073  normal-flowsci          free          28/48    88/ 375gb  6252791*16 6277090[312]*12\n",
      "k074  normal-general          free          47/48   360/ 375gb  6252789*16 6270901*6 6276603*1 6276876[133]*8 6276876[141]*8 6276876[145]*8\n",
      "k075  normal-general          job-busy      48/48   128/ 375gb  6253056*16 6275909[17]*8 6275909[22]*8 6275909[88]*8 6275909[89]*8\n",
      "k076  normal-general          job-busy      48/48    88/ 375gb  6275909[82]*8 6275909[93]*8 6275909[94]*8 6275909[98]*8 6275909[99]*8 6276876[134]*8\n",
      "k077  normal-general          job-busy      48/48   337/ 375gb  6271245*16 6271255*4 6275909[92]*8 6276570*2 6276571*2 6276876[131]*8 6276876[148]*8\n",
      "k078  normal-general          free          44/48   120/ 375gb  6275807*8 6275909[34]*8 6276876[136]*8 6276876[140]*8 6277090[346]*12\n",
      "k079  normal-general          free          37/48   107/ 375gb  6275909[68]*8 6275909[71]*8 6276569*2 6276626*16 6276688*3\n",
      "k080  normal-general          free          40/48    72/ 375gb  6275909[37]*8 6275909[63]*8 6275909[64]*8 6275909[90]*8 6276876[132]*8\n",
      "k081  normal-general          job-busy      48/48   128/ 375gb  6253059*16 6275909[36]*8 6275909[44]*8 6275909[45]*8 6275909[62]*8\n",
      "k082  normal-general          free          42/48   268/ 375gb  6275909[33]*8 6275909[91]*8 6276750*16 6276876[156]*8 6277476*2\n",
      "k083  normal-general          free          47/48   358/ 375gb  6275909[83]*8 6275909[84]*8 6275909[85]*8 6275909[87]*8 6276597*1 6276876[146]*8 6277254*3 6277255*3\n",
      "k084  normal-general          job-busy      48/48   276/ 375gb  6275800*8 6275909[25]*8 6276579*8 6276876[147]*8 6276876[154]*8 6277489*8\n",
      "k091  gpu-general             offline        0/48     0/ 502gb  \n",
      "k092  gpu-general             free          32/48   501/ 502gb  6275205*32\n",
      "k093  gpu-general             free           0/72     0/ 572gb  \n",
      "k094  gpu-adfa                job-busy      64/64   160/ 754gb  6277240*64\n",
      "k095  gpu-mwac                free          20/32   191/ 502gb  6277356*2 6277532*2 6277536*8 6277541*8\n",
      "k096  gpu-adfa                free           8/64   320/ 754gb  6276652*4 6276764*4\n",
      "k097  gpu-fabilab             free           0/64     0/1005gb  \n",
      "k098  gpu-hypsonic            free           0/64     0/ 249gb  \n",
      "k099  gpu-mwac                free          10/32   127/1006gb  6277531*2 6277539*8\n",
      "k100  gpu-mwac                job-busy      32/32   500/1006gb  6277540*8 6277542*8 6277544*8 6277545*8\n",
      "k101  gpu-deepcse             free          16/32    92/ 186gb  6276941*8 6277001*8\n",
      "k102  gpu-simi                job-busy      32/32   171/ 186gb  6276766*32\n",
      "k103  gpu-general             free          10/32    40/ 186gb  6277556*5 6277557*5\n",
      "k104  gpu-dbgcse              job-busy      32/32   180/ 186gb  6271636*32\n",
      "k105  gpu-general             free          15/32   158/ 186gb  6276732*4 6277098*6 6277199*5\n",
      "k106  gpu-general             free          10/32   174/ 186gb  6277354*4 6277362*6\n",
      "k108  gpu-cse                 job-busy      32/32   180/ 186gb  6262749*32\n",
      "k109  gpu-cse                 free           6/32    32/ 186gb  6275617*6\n",
      "k111  normal-general          job-busy      48/48   144/ 375gb  6275794*8 6275909[56]*8 6275909[57]*8 6275909[59]*8 6275909[69]*8 6275909[70]*8\n",
      "k112  normal-general          job-busy      48/48   219/ 375gb  6253061*16 6274547*1 6276876[122]*8 6276876[157]*8 6277090[280]*12 6277260*3\n",
      "k113  normal-general          job-busy      48/48   136/ 375gb  6275909[23]*8 6275909[35]*8 6275909[41]*8 6275909[61]*8 6276602*8 6276876[123]*8\n",
      "k114  normal-general          free          43/48   331/ 375gb  6252783*16 6276698*1 6276876[138]*8 6277090[342]*12 6277256*3 6277405*2 6277482*1\n",
      "k115  normal-general          free          44/48    88/ 375gb  6275909[32]*8 6275909[48]*8 6275909[49]*8 6275909[60]*8 6277090[340]*12\n",
      "k116  normal-general          job-busy      48/48    46/ 375gb  6275695*40 6275909[21]*8\n",
      "k117  normal-general          free          40/48   120/ 375gb  6275909[20]*8 6276876[144]*8 6276876[152]*8 6276876[153]*8 6277257*3 6277258*3 6277420*2\n",
      "k118  normal-general          job-busy      48/48   128/ 375gb  6252786*16 6275909[38]*8 6277090[268]*12 6277090[336]*12\n",
      "k119  normal-general          job-busy      48/48   266/ 375gb  6275909[19]*8 6275909[31]*8 6275909[40]*8 6277490*8 6277515*16\n",
      "k120  normal-general          free          44/48    88/ 375gb  6275909[42]*8 6275909[43]*8 6275909[66]*8 6275909[97]*8 6277090[332]*12\n",
      "k121  normal-oceandyn         free          28/48   375/ 375gb  6276678*28\n",
      "k122  normal-spree            job-busy      32/32    94/ 186gb  6276679*2 6277090[314]*12 6277090[337]*12 6277266*3 6277267*3\n",
      "k123  normal-cosmo            free          40/48    50/ 374gb  6276699*40\n",
      "k124  normal-general          job-busy      48/48   128/ 376gb  6252785*16 6275909[27]*8 6277090[327]*12 6277090[338]*12\n",
      "k125  normal-general          job-busy      48/48    88/ 376gb  6275909[28]*8 6275909[46]*8 6275909[54]*8 6275909[55]*8 6275909[58]*8 6276876[129]*8\n",
      "k126  normal-general          job-busy      48/48   275/ 376gb  6275651*28 6276578*2 6276630*2 6276876[125]*8 6276876[135]*8\n",
      "k127  normal-general          free          45/48   322/ 376gb  6265546*28 6272748*8 6275909[16]*8 6277513*1\n",
      "k128  normal-general          job-busy      48/48   184/ 376gb  6272747*8 6275909[79]*8 6275909[80]*8 6276876[137]*8 6276876[142]*8 6276876[160]*8\n",
      "k129  normal-cryosim          free          40/48    50/ 376gb  6276699*40\n",
      "k130  normal-physics          free           0/48     0/ 376gb  \n",
      "k131  normal-physics          free          28/48    88/ 376gb  6253051*16 6277090[299]*12\n",
      "k132  normal-physics          free          40/48    50/ 376gb  6276699*40\n",
      "k133  normal-cosmo            free          24/48    48/ 376gb  6277090[259]*12 6277090[296]*12\n",
      "k134  normal-physics          free          40/48    50/ 376gb  6276699*40\n",
      "k135  normal-physics          free          40/48    50/ 376gb  6276699*40\n",
      "k136  normal-physics          free          40/48    50/ 376gb  6276699*40\n",
      "k137  normal-babs             free          36/48   360/ 754gb  6276485*36\n",
      "k138  normal-babs             free           8/48    90/ 754gb  6277498*8\n",
      "k139  normal-ccrc             free          62/64   432/ 502gb  6277090[345]*12 6277090[347]*12 6277283*28 6277441*10\n",
      "k140  normal-ccrc             free          25/64   171/ 502gb  6271251*1 6277090[291]*12 6277090[292]*12\n",
      "k141  normal-general          free          63/64   318/ 502gb  6274646*10 6275247*8 6275909[51]*8 6276876[150]*8 6276876[159]*8 6277090[263]*12 6277155*8 6277483*1\n",
      "k142  normal-general          job-busy      64/64   496/ 502gb  6274675*16 6275653*40 6275909[47]*8\n",
      "k143  normal-general          job-busy      64/64   445/ 502gb  6243869*40 6276763*20 6277259*3 6277494*1\n",
      "k146  normal-general          free          48/64   498/ 502gb  6275204*16 6275909[39]*8 6275909[81]*8 6276876[143]*8 6276876[155]*8\n",
      "k147  normal-general          free          60/64   160/ 502gb  6252778*16 6275909[30]*8 6276876[128]*8 6277037*16 6277090[343]*12\n",
      "k148  normal-general          job-busy      64/64   360/ 502gb  6271050*24 6275809*8 6275909[95]*8 6275909[96]*8 6276876[124]*8 6277496*8\n",
      "k149  normal-maths            free          56/64   112/2014gb  6275909[4]*8 6275909[5]*8 6275909[6]*8 6275909[7]*8 6277090[284]*12 6277090[308]*12\n",
      "k150  normal-maths            free          56/64   104/ 502gb  6277090[271]*12 6277090[275]*12 6277090[288]*12 6277090[300]*12 6277495*8\n",
      "k151  normal-maths            free          59/64   136/ 502gb  6275909[74]*8 6275909[75]*8 6275909[76]*8 6275909[77]*8 6275909[86]*8 6276716*16 6276940[28]*1 6276940[29]*1 6276940[30]*1\n",
      "k152  normal-maths            job-busy      64/64   128/ 502gb  6275909[10]*8 6275909[11]*8 6275909[12]*8 6275909[13]*8 6275909[14]*8 6275909[15]*8 6275909[8]*8 6275909[9]*8\n",
      "k153  normal-qmchda           job-busy      64/64     2/ 502gb  6275749*64\n",
      "k154  normal-qmchda           job-busy      64/64    10/ 502gb  6275756*8 6276740*56\n",
      "k155  normal-cardiolab        free          24/64    48/ 502gb  6277090[260]*12 6277090[282]*12\n",
      "k156  normal-maths            free          63/64   242/ 502gb  6275909[2]*8 6275909[3]*8 6276635*7 6276699*40\n",
      "k157  normal-maths            job-busy      64/64   128/ 502gb  6275909[1]*8 6275909[65]*8 6277090[315]*12 6277090[319]*12 6277090[341]*12 6277090[352]*12\n",
      "k158  normal-maths            free          53/64   375/ 502gb  6276940[10]*1 6276940[11]*1 6276940[12]*1 6276940[13]*1 6276940[14]*1 6276940[15]*1 6276940[16]*1 6276940[17]*1 6276940[18]*1 6276940[19]*1 6276940[20]*1 6276940[21]*1 6276940[22]*1 6276940[23]*1 6276940[24]*1 6276940[25]*1 6276940[26]*1 6276940[27]*1 6276940[2]*1 6276940[3]*1 6276940[4]*1 6276940[5]*1 6276940[6]*1 6276940[7]*1 6276940[8]*1 6276940[9]*1 6277090[283]*12 6277090[344]*12 6277261*3\n",
      "k159  normal-rciti            free          60/64   128/ 502gb  6277528*60\n",
      "k160  normal-adfa             free          34/64    82/ 501gb  6171149*3 6171170*3 6273256*2 6273323*2 6277228*2 6277244*2 6277281*16 6277430*2 6277435*2\n",
      "k161  normal-maths            free          60/64     2/ 501gb  6276828*60\n",
      "k162  normal-general          job-busy      64/64   496/ 501gb  6265507*16 6275654*40 6275909[24]*8\n",
      "k163  normal-general          job-busy      64/64   496/ 501gb  6265506*16 6275692*40 6275909[50]*8\n",
      "k164  normal-biomengcpu       free          60/64  1004/1005gb  6276856*28 6277031*16 6277032*16\n",
      "k174  gpu-general             free           8/32   200/1006gb  6277564*8\n",
      "k175  gpu-general             job-busy      32/32   980/1006gb  6276942*32\n",
      "\n",
      "total nodes: 153\n",
      "total cores: 5377/7024\n",
      "\n",
      "\n"
     ]
    }
   ],
   "source": [
    "katana.pstat()"
   ]
  },
  {
   "cell_type": "code",
   "execution_count": null,
   "metadata": {},
   "outputs": [],
   "source": [
    "# qstat commands \n",
    "\"qstat -u $USER -s\" "
   ]
  },
  {
   "cell_type": "code",
   "execution_count": null,
   "metadata": {},
   "outputs": [],
   "source": []
  }
 ],
 "metadata": {
  "kernelspec": {
   "display_name": "datavis",
   "language": "python",
   "name": "python3"
  },
  "language_info": {
   "codemirror_mode": {
    "name": "ipython",
    "version": 3
   },
   "file_extension": ".py",
   "mimetype": "text/x-python",
   "name": "python",
   "nbconvert_exporter": "python",
   "pygments_lexer": "ipython3",
   "version": "3.12.3"
  }
 },
 "nbformat": 4,
 "nbformat_minor": 2
}
